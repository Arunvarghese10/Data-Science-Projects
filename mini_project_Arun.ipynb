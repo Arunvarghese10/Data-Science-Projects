{
 "cells": [
  {
   "cell_type": "markdown",
   "id": "95773b10",
   "metadata": {},
   "source": [
    "# Q1. Create a Dictionary of lists to store the information of shipments given in the table"
   ]
  },
  {
   "cell_type": "code",
   "execution_count": 7,
   "id": "d1617fe8",
   "metadata": {},
   "outputs": [
    {
     "data": {
      "text/plain": [
       "{101: {'sender': 1,\n",
       "  'receiver': 3,\n",
       "  'start_date': datetime.datetime(2020, 3, 14, 0, 0),\n",
       "  'delivery_date': datetime.datetime(2020, 3, 25, 0, 0),\n",
       "  'sender_location': 'Area1',\n",
       "  'receiver_location': 'Area6',\n",
       "  'delivery_status': 'Delivered',\n",
       "  'shipping_cost': 198},\n",
       " 102: {'sender': 4,\n",
       "  'receiver': 1,\n",
       "  'start_date': datetime.datetime(2020, 6, 18, 0, 0),\n",
       "  'delivery_date': datetime.datetime(2020, 7, 9, 0, 0),\n",
       "  'sender_location': 'Area2',\n",
       "  'receiver_location': 'Area4',\n",
       "  'delivery_status': 'Delivered',\n",
       "  'shipping_cost': 275},\n",
       " 103: {'sender': 2,\n",
       "  'receiver': 3,\n",
       "  'start_date': datetime.datetime(2020, 12, 1, 0, 0),\n",
       "  'delivery_date': None,\n",
       "  'sender_location': 'Area5',\n",
       "  'receiver_location': 'Area1',\n",
       "  'delivery_status': 'In-Transit',\n",
       "  'shipping_cost': 200},\n",
       " 104: {'sender': 1,\n",
       "  'receiver': 5,\n",
       "  'start_date': datetime.datetime(2020, 6, 23, 0, 0),\n",
       "  'delivery_date': datetime.datetime(2020, 6, 25, 0, 0),\n",
       "  'sender_location': 'Area1',\n",
       "  'receiver_location': 'Area4',\n",
       "  'delivery_status': 'Delivered',\n",
       "  'shipping_cost': 314},\n",
       " 105: {'sender': 3,\n",
       "  'receiver': 4,\n",
       "  'start_date': datetime.datetime(2020, 8, 29, 0, 0),\n",
       "  'delivery_date': datetime.datetime(2020, 9, 10, 0, 0),\n",
       "  'sender_location': 'Area5',\n",
       "  'receiver_location': 'Area3',\n",
       "  'delivery_status': 'Delivered',\n",
       "  'shipping_cost': 275},\n",
       " 106: {'sender': 5,\n",
       "  'receiver': 2,\n",
       "  'start_date': datetime.datetime(2020, 6, 28, 0, 0),\n",
       "  'delivery_date': None,\n",
       "  'sender_location': 'Area3',\n",
       "  'receiver_location': 'Area1',\n",
       "  'delivery_status': 'In-Transit',\n",
       "  'shipping_cost': 270}}"
      ]
     },
     "execution_count": 7,
     "metadata": {},
     "output_type": "execute_result"
    }
   ],
   "source": [
    "import datetime\n",
    "\n",
    "dicship={\n",
    "    101:{\n",
    "        \"sender\":1,\n",
    "        \"receiver\":3,\n",
    "        \"start_date\":datetime.datetime(2020,3,14),\n",
    "        \"delivery_date\":datetime.datetime(2020,3,25),\n",
    "        \"sender_location\":\"Area1\",\n",
    "        \"receiver_location\":\"Area6\",\n",
    "        \"delivery_status\":\"Delivered\",\n",
    "        \"shipping_cost\":198\n",
    "    },\n",
    "    102:{\n",
    "        \"sender\":4,\n",
    "        \"receiver\":1,\n",
    "        \"start_date\":datetime.datetime(2020,6,18),\n",
    "        \"delivery_date\":datetime.datetime(2020,7,9),\n",
    "        \"sender_location\":\"Area2\",\n",
    "        \"receiver_location\":\"Area4\",\n",
    "        \"delivery_status\":\"Delivered\",\n",
    "        \"shipping_cost\":275\n",
    "    },\n",
    "    103:{\n",
    "        \"sender\":2,\n",
    "        \"receiver\":3,\n",
    "        \"start_date\":datetime.datetime(2020,12,1),\n",
    "        \"delivery_date\":None,\n",
    "        \"sender_location\":\"Area5\",\n",
    "        \"receiver_location\":\"Area1\",\n",
    "        \"delivery_status\":\"In-Transit\",\n",
    "        \"shipping_cost\":200\n",
    "    },\n",
    "    104:{\n",
    "        \"sender\":1,\n",
    "        \"receiver\":5,\n",
    "        \"start_date\":datetime.datetime(2020,6,23),\n",
    "        \"delivery_date\":datetime.datetime(2020,6,25),\n",
    "        \"sender_location\":\"Area1\",\n",
    "        \"receiver_location\":\"Area4\",\n",
    "        \"delivery_status\":\"Delivered\",\n",
    "        \"shipping_cost\":314\n",
    "    },\n",
    "    105:{\n",
    "        \"sender\":3,\n",
    "        \"receiver\":4,\n",
    "        \"start_date\":datetime.datetime(2020,8,29),\n",
    "        \"delivery_date\":datetime.datetime(2020,9,10),\n",
    "        \"sender_location\":\"Area5\",\n",
    "        \"receiver_location\":\"Area3\",\n",
    "        \"delivery_status\":\"Delivered\",\n",
    "        \"shipping_cost\":275\n",
    "    },\n",
    "    106:{\n",
    "        \"sender\":5,\n",
    "        \"receiver\":2,\n",
    "        \"start_date\":datetime.datetime(2020,6,28),\n",
    "        \"delivery_date\":None,\n",
    "        \"sender_location\":\"Area3\",\n",
    "        \"receiver_location\":\"Area1\",\n",
    "        \"delivery_status\":\"In-Transit\",\n",
    "        \"shipping_cost\":270\n",
    "    }}\n",
    "dicship"
   ]
  },
  {
   "cell_type": "markdown",
   "id": "c26d2f4f",
   "metadata": {},
   "source": [
    "\n",
    "# Q.2 create a dictionary to store the information of clients given in the table"
   ]
  },
  {
   "cell_type": "code",
   "execution_count": 8,
   "id": "a9f6044a",
   "metadata": {},
   "outputs": [
    {
     "data": {
      "text/plain": [
       "{1: 'Philip', 2: 'Omega lll', 3: 'Ramya', 4: 'Romesh', 5: 'Jhon'}"
      ]
     },
     "execution_count": 8,
     "metadata": {},
     "output_type": "execute_result"
    }
   ],
   "source": [
    "clientlist={\n",
    "1:\"Philip\", \n",
    "2:\"Omega lll\",\n",
    "3:\"Ramya\",\n",
    "4:\"Romesh\",\n",
    "5:\"Jhon\",\n",
    "}\n",
    "\n",
    "clientlist\n"
   ]
  },
  {
   "cell_type": "markdown",
   "id": "b97a58f1",
   "metadata": {},
   "source": [
    "# Q3. Write a code to replace client’s id with their respective name in shipment dictionary using a loop and dictionary comprehension"
   ]
  },
  {
   "cell_type": "code",
   "execution_count": 9,
   "id": "1e99dab9",
   "metadata": {},
   "outputs": [
    {
     "data": {
      "text/plain": [
       "{101: {'sender': 'Philip',\n",
       "  'receiver': 'Ramya',\n",
       "  'start_date': datetime.datetime(2020, 3, 14, 0, 0),\n",
       "  'delivery_date': datetime.datetime(2020, 3, 25, 0, 0),\n",
       "  'sender_location': 'Area1',\n",
       "  'receiver_location': 'Area6',\n",
       "  'delivery_status': 'Delivered',\n",
       "  'shipping_cost': 198},\n",
       " 102: {'sender': 'Romesh',\n",
       "  'receiver': 'Philip',\n",
       "  'start_date': datetime.datetime(2020, 6, 18, 0, 0),\n",
       "  'delivery_date': datetime.datetime(2020, 7, 9, 0, 0),\n",
       "  'sender_location': 'Area2',\n",
       "  'receiver_location': 'Area4',\n",
       "  'delivery_status': 'Delivered',\n",
       "  'shipping_cost': 275},\n",
       " 103: {'sender': 'Omega lll',\n",
       "  'receiver': 'Ramya',\n",
       "  'start_date': datetime.datetime(2020, 12, 1, 0, 0),\n",
       "  'delivery_date': None,\n",
       "  'sender_location': 'Area5',\n",
       "  'receiver_location': 'Area1',\n",
       "  'delivery_status': 'In-Transit',\n",
       "  'shipping_cost': 200},\n",
       " 104: {'sender': 'Philip',\n",
       "  'receiver': 'Jhon',\n",
       "  'start_date': datetime.datetime(2020, 6, 23, 0, 0),\n",
       "  'delivery_date': datetime.datetime(2020, 6, 25, 0, 0),\n",
       "  'sender_location': 'Area1',\n",
       "  'receiver_location': 'Area4',\n",
       "  'delivery_status': 'Delivered',\n",
       "  'shipping_cost': 314},\n",
       " 105: {'sender': 'Ramya',\n",
       "  'receiver': 'Romesh',\n",
       "  'start_date': datetime.datetime(2020, 8, 29, 0, 0),\n",
       "  'delivery_date': datetime.datetime(2020, 9, 10, 0, 0),\n",
       "  'sender_location': 'Area5',\n",
       "  'receiver_location': 'Area3',\n",
       "  'delivery_status': 'Delivered',\n",
       "  'shipping_cost': 275},\n",
       " 106: {'sender': 'Jhon',\n",
       "  'receiver': 'Omega lll',\n",
       "  'start_date': datetime.datetime(2020, 6, 28, 0, 0),\n",
       "  'delivery_date': None,\n",
       "  'sender_location': 'Area3',\n",
       "  'receiver_location': 'Area1',\n",
       "  'delivery_status': 'In-Transit',\n",
       "  'shipping_cost': 270}}"
      ]
     },
     "execution_count": 9,
     "metadata": {},
     "output_type": "execute_result"
    }
   ],
   "source": [
    "for i in dicship:\n",
    "    dicship[i]['sender']=clientlist[dicship[i]['sender']]\n",
    "    dicship[i]['receiver']=clientlist[dicship[i]['receiver']]\n",
    "dicship\n"
   ]
  },
  {
   "cell_type": "markdown",
   "id": "afa6be9c",
   "metadata": {},
   "source": [
    "# Q4. Print all shipment details that are sent by Phillip"
   ]
  },
  {
   "cell_type": "code",
   "execution_count": 19,
   "id": "7de782a4",
   "metadata": {},
   "outputs": [
    {
     "name": "stdout",
     "output_type": "stream",
     "text": [
      "{'sender': 'Philip', 'receiver': 'Ramya', 'start_date': datetime.datetime(2020, 3, 14, 0, 0), 'delivery_date': datetime.datetime(2020, 3, 25, 0, 0), 'sender_location': 'Area1', 'receiver_location': 'Area6', 'delivery_status': 'Delivered', 'shipping_cost': 198}\n",
      "{'sender': 'Philip', 'receiver': 'Jhon', 'start_date': datetime.datetime(2020, 6, 23, 0, 0), 'delivery_date': datetime.datetime(2020, 6, 25, 0, 0), 'sender_location': 'Area1', 'receiver_location': 'Area4', 'delivery_status': 'Delivered', 'shipping_cost': 314}\n"
     ]
    }
   ],
   "source": [
    "for i in dicship:\n",
    "    if dicship[i]['sender']=='Philip':\n",
    "        print(dicship[i])"
   ]
  },
  {
   "cell_type": "markdown",
   "id": "7155ff25",
   "metadata": {},
   "source": [
    "# Q5. Print all shipment details that are received by Ramya"
   ]
  },
  {
   "cell_type": "code",
   "execution_count": 20,
   "id": "7cd2d1ad",
   "metadata": {},
   "outputs": [
    {
     "name": "stdout",
     "output_type": "stream",
     "text": [
      "{'sender': 'Philip', 'receiver': 'Ramya', 'start_date': datetime.datetime(2020, 3, 14, 0, 0), 'delivery_date': datetime.datetime(2020, 3, 25, 0, 0), 'sender_location': 'Area1', 'receiver_location': 'Area6', 'delivery_status': 'Delivered', 'shipping_cost': 198}\n",
      "{'sender': 'Omega lll', 'receiver': 'Ramya', 'start_date': datetime.datetime(2020, 12, 1, 0, 0), 'delivery_date': None, 'sender_location': 'Area5', 'receiver_location': 'Area1', 'delivery_status': 'In-Transit', 'shipping_cost': 200}\n"
     ]
    }
   ],
   "source": [
    "for i in dicship:\n",
    "    if dicship[i]['receiver']=='Ramya':\n",
    "        print(dicship[i])"
   ]
  },
  {
   "cell_type": "markdown",
   "id": "a6c30756",
   "metadata": {},
   "source": [
    "# Q6. Print all shipments which are in 'In-Transit' status"
   ]
  },
  {
   "cell_type": "code",
   "execution_count": 21,
   "id": "eeb65680",
   "metadata": {},
   "outputs": [
    {
     "name": "stdout",
     "output_type": "stream",
     "text": [
      "{'sender': 'Omega lll', 'receiver': 'Ramya', 'start_date': datetime.datetime(2020, 12, 1, 0, 0), 'delivery_date': None, 'sender_location': 'Area5', 'receiver_location': 'Area1', 'delivery_status': 'In-Transit', 'shipping_cost': 200}\n",
      "{'sender': 'Jhon', 'receiver': 'Omega lll', 'start_date': datetime.datetime(2020, 6, 28, 0, 0), 'delivery_date': None, 'sender_location': 'Area3', 'receiver_location': 'Area1', 'delivery_status': 'In-Transit', 'shipping_cost': 270}\n"
     ]
    }
   ],
   "source": [
    "for i in dicship:\n",
    "    if dicship[i][\"delivery_status\"]==\"In-Transit\":\n",
    "        print(dicship[i])"
   ]
  },
  {
   "cell_type": "markdown",
   "id": "f6da9688",
   "metadata": {},
   "source": [
    "# #Q7. Print all shipments which are delivered within 7 days of courier Start date"
   ]
  },
  {
   "cell_type": "code",
   "execution_count": 22,
   "id": "3e1bb17f",
   "metadata": {},
   "outputs": [
    {
     "name": "stdout",
     "output_type": "stream",
     "text": [
      "{'sender': 'Philip', 'receiver': 'Jhon', 'start_date': datetime.datetime(2020, 6, 23, 0, 0), 'delivery_date': datetime.datetime(2020, 6, 25, 0, 0), 'sender_location': 'Area1', 'receiver_location': 'Area4', 'delivery_status': 'Delivered', 'shipping_cost': 314}\n"
     ]
    }
   ],
   "source": [
    "for i in dicship:\n",
    "    if(dicship[i]['delivery_date'] is not None):\n",
    "        if (dicship[i]['delivery_date'] - dicship[i]['start_date']).days<7:\n",
    "            print(dicship[i])"
   ]
  },
  {
   "cell_type": "markdown",
   "id": "3a6ef1d6",
   "metadata": {},
   "source": [
    "# Q8. Print all shipments which are delivered after 15 days of courier start date or not yet been delivered."
   ]
  },
  {
   "cell_type": "code",
   "execution_count": 23,
   "id": "d8a20d7d",
   "metadata": {},
   "outputs": [
    {
     "name": "stdout",
     "output_type": "stream",
     "text": [
      "{'sender': 'Romesh', 'receiver': 'Philip', 'start_date': datetime.datetime(2020, 6, 18, 0, 0), 'delivery_date': datetime.datetime(2020, 7, 9, 0, 0), 'sender_location': 'Area2', 'receiver_location': 'Area4', 'delivery_status': 'Delivered', 'shipping_cost': 275}\n",
      "{'sender': 'Omega lll', 'receiver': 'Ramya', 'start_date': datetime.datetime(2020, 12, 1, 0, 0), 'delivery_date': None, 'sender_location': 'Area5', 'receiver_location': 'Area1', 'delivery_status': 'In-Transit', 'shipping_cost': 200}\n",
      "{'sender': 'Jhon', 'receiver': 'Omega lll', 'start_date': datetime.datetime(2020, 6, 28, 0, 0), 'delivery_date': None, 'sender_location': 'Area3', 'receiver_location': 'Area1', 'delivery_status': 'In-Transit', 'shipping_cost': 270}\n"
     ]
    }
   ],
   "source": [
    "for i in dicship:\n",
    "    if(dicship[i]['delivery_date'] is not None):\n",
    "        if (dicship[i]['delivery_date'] - dicship[i]['start_date']).days>15:\n",
    "            print(dicship[i])\n",
    "    elif dicship[i]['delivery_date'] is None:\n",
    "        print(dicship[i])"
   ]
  },
  {
   "cell_type": "markdown",
   "id": "64bb5c81",
   "metadata": {},
   "source": [
    "# Q 9. Write a function find_all_routes to display all possible routes from senders location to receivers location given in the dictionary for each shipment"
   ]
  },
  {
   "cell_type": "code",
   "execution_count": 24,
   "id": "15dfa597",
   "metadata": {},
   "outputs": [],
   "source": [
    "def find_all_routes(route,src,dest,visited,path):\n",
    "    visited[src]=True\n",
    "    path.append(src+1)\n",
    "    if src==dest:\n",
    "        print(path)\n",
    "    else:\n",
    "        for i in range(6):\n",
    "            if route[src][i]==1 and (visited[i]==False):\n",
    "                find_all_routes(route,i,dest,visited,path)\n",
    "    path.pop()\n",
    "    visited[src]=False\n",
    "    \n",
    "route=[[0,1,0,0,0,1],[1,0,1,1,0,0],[0,1,0,1,0,0],[0,1,1,0,1,0],[0,0,0,1,0,0],[1,0,0,0,0,0]]\n",
    "visited=[False for i in range(6)]\n",
    "path=[]"
   ]
  },
  {
   "cell_type": "code",
   "execution_count": 30,
   "id": "2eb8b95d",
   "metadata": {},
   "outputs": [
    {
     "name": "stdout",
     "output_type": "stream",
     "text": [
      "Shipment Id is:  101\n",
      "Sender location is:  1\n",
      "Reciever location is:  6\n",
      "All possible routes are as follows : \n",
      "[1, 6]\n",
      "******************\n",
      "Shipment Id is:  102\n",
      "Sender location is:  2\n",
      "Reciever location is:  4\n",
      "All possible routes are as follows : \n",
      "[2, 3, 4]\n",
      "[2, 4]\n",
      "******************\n",
      "Shipment Id is:  103\n",
      "Sender location is:  5\n",
      "Reciever location is:  1\n",
      "All possible routes are as follows : \n",
      "[5, 4, 2, 1]\n",
      "[5, 4, 3, 2, 1]\n",
      "******************\n",
      "Shipment Id is:  104\n",
      "Sender location is:  1\n",
      "Reciever location is:  4\n",
      "All possible routes are as follows : \n",
      "[1, 2, 3, 4]\n",
      "[1, 2, 4]\n",
      "******************\n",
      "Shipment Id is:  105\n",
      "Sender location is:  5\n",
      "Reciever location is:  3\n",
      "All possible routes are as follows : \n",
      "[5, 4, 2, 3]\n",
      "[5, 4, 3]\n",
      "******************\n",
      "Shipment Id is:  106\n",
      "Sender location is:  3\n",
      "Reciever location is:  1\n",
      "All possible routes are as follows : \n",
      "[3, 2, 1]\n",
      "[3, 4, 2, 1]\n",
      "******************\n"
     ]
    }
   ],
   "source": [
    "def show(dicship):\n",
    "    for i in dicship:\n",
    "        print('Shipment Id is: ',i)\n",
    "        source = int(dicship[i]['sender_location'][-1])\n",
    "        print('Sender location is: ',source)\n",
    "        destination = int(dicship[i]['receiver_location'][-1])\n",
    "        print('Reciever location is: ',destination)\n",
    "        print('All possible routes are as follows : ')\n",
    "        find_all_routes(route,source-1,destination-1,visited,path)\n",
    "        print('******************')\n",
    "show(dicship)"
   ]
  }
 ],
 "metadata": {
  "kernelspec": {
   "display_name": "Python 3 (ipykernel)",
   "language": "python",
   "name": "python3"
  },
  "language_info": {
   "codemirror_mode": {
    "name": "ipython",
    "version": 3
   },
   "file_extension": ".py",
   "mimetype": "text/x-python",
   "name": "python",
   "nbconvert_exporter": "python",
   "pygments_lexer": "ipython3",
   "version": "3.9.7"
  }
 },
 "nbformat": 4,
 "nbformat_minor": 5
}
